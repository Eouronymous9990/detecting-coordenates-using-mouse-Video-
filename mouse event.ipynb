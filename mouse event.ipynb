{
 "cells": [
  {
   "cell_type": "code",
   "execution_count": 7,
   "id": "53fb5eb4",
   "metadata": {},
   "outputs": [
    {
     "name": "stdout",
     "output_type": "stream",
     "text": [
      "56 719\n",
      "54 717\n",
      "53 716\n",
      "52 714\n",
      "51 714\n",
      "50 714\n",
      "50 713\n",
      "49 713\n",
      "48 712\n",
      "48 711\n",
      "47 710\n",
      "47 709\n",
      "46 707\n",
      "44 706\n",
      "42 705\n",
      "39 701\n",
      "39 699\n",
      "37 699\n",
      "37 698\n",
      "36 696\n",
      "36 694\n",
      "36 693\n",
      "38 693\n",
      "41 694\n",
      "47 695\n",
      "54 697\n",
      "62 699\n",
      "73 702\n",
      "90 705\n",
      "108 707\n",
      "123 709\n",
      "144 712\n",
      "157 714\n",
      "170 716\n",
      "181 716\n",
      "190 716\n",
      "200 716\n",
      "209 716\n",
      "210 716\n",
      "212 716\n",
      "215 716\n",
      "216 716\n",
      "216 718\n"
     ]
    }
   ],
   "source": [
    "import cv2\n",
    "def POINTS(event, x, y, flags, param):\n",
    "    if event == cv2.EVENT_MOUSEMOVE :  \n",
    "\n",
    "        print(x,y)\n",
    "                   \n",
    "\n",
    "\n",
    "cap=cv2.VideoCapture(r\"E:\\data CV\\WhatsApp Video 2023-07-03 at 22.59.20.mp4\")\n",
    "\n",
    " \n",
    "\n",
    "\n",
    "while True:\n",
    "    \n",
    "    ret,frame=cap.read()\n",
    "    if not ret:\n",
    "        break\n",
    "    \n",
    "    cv2.namedWindow('FRAME')\n",
    "\n",
    "    cv2.imshow(\"FRAME\",frame)\n",
    "    cv2.setMouseCallback('FRAME', POINTS)\n",
    "    if cv2.waitKey(1)==27:\n",
    "        break\n",
    "cap.release()\n",
    "out.release()\n",
    "\n",
    "cv2.destroyAllWindows()\n",
    "\n",
    "\n",
    "\n",
    "\n"
   ]
  },
  {
   "cell_type": "code",
   "execution_count": null,
   "id": "86a90ff2",
   "metadata": {},
   "outputs": [],
   "source": []
  }
 ],
 "metadata": {
  "kernelspec": {
   "display_name": "Python 3 (ipykernel)",
   "language": "python",
   "name": "python3"
  },
  "language_info": {
   "codemirror_mode": {
    "name": "ipython",
    "version": 3
   },
   "file_extension": ".py",
   "mimetype": "text/x-python",
   "name": "python",
   "nbconvert_exporter": "python",
   "pygments_lexer": "ipython3",
   "version": "3.9.13"
  }
 },
 "nbformat": 4,
 "nbformat_minor": 5
}
